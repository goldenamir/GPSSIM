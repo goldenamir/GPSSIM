{
 "cells": [
  {
   "cell_type": "markdown",
   "metadata": {},
   "source": [
    "# GPS Simulation Project"
   ]
  },
  {
   "cell_type": "markdown",
   "metadata": {},
   "source": [
    "### Haversine Function"
   ]
  },
  {
   "cell_type": "code",
   "execution_count": 1,
   "metadata": {},
   "outputs": [],
   "source": [
    "import math\n",
    "\n",
    "def distance(origin, destination):\n",
    "    lat1, lon1 = origin\n",
    "    lat2, lon2 = destination\n",
    "    radius = 6371 # km\n",
    "\n",
    "    dlat = math.radians(lat2-lat1)\n",
    "    dlon = math.radians(lon2-lon1)\n",
    "    a = math.sin(dlat/2) * math.sin(dlat/2) + math.cos(math.radians(lat1)) \\\n",
    "        * math.cos(math.radians(lat2)) * math.sin(dlon/2) * math.sin(dlon/2)\n",
    "    c = 2 * math.atan2(math.sqrt(a), math.sqrt(1-a))\n",
    "    d = radius * c\n",
    "\n",
    "    return d\n",
    "\n",
    "\n",
    "# Sample for filling the function print( distance((lat1, long1), (lat2, long2)) )"
   ]
  },
  {
   "attachments": {},
   "cell_type": "markdown",
   "metadata": {},
   "source": [
    "### Reading points from digital maps"
   ]
  },
  {
   "cell_type": "code",
   "execution_count": 9,
   "metadata": {},
   "outputs": [
    {
     "data": {
      "text/html": [
       "<div>\n",
       "<style scoped>\n",
       "    .dataframe tbody tr th:only-of-type {\n",
       "        vertical-align: middle;\n",
       "    }\n",
       "\n",
       "    .dataframe tbody tr th {\n",
       "        vertical-align: top;\n",
       "    }\n",
       "\n",
       "    .dataframe thead th {\n",
       "        text-align: right;\n",
       "    }\n",
       "</style>\n",
       "<table border=\"1\" class=\"dataframe\">\n",
       "  <thead>\n",
       "    <tr style=\"text-align: right;\">\n",
       "      <th></th>\n",
       "      <th>place_name</th>\n",
       "      <th>Longitude</th>\n",
       "      <th>Latitude</th>\n",
       "    </tr>\n",
       "  </thead>\n",
       "  <tbody>\n",
       "    <tr>\n",
       "      <th>0</th>\n",
       "      <td>01. Point 1</td>\n",
       "      <td>\\n            20.1990912</td>\n",
       "      <td>67.8683098</td>\n",
       "    </tr>\n",
       "    <tr>\n",
       "      <th>1</th>\n",
       "      <td>02. Point 2</td>\n",
       "      <td>\\n            22.1653846</td>\n",
       "      <td>65.5841464</td>\n",
       "    </tr>\n",
       "    <tr>\n",
       "      <th>2</th>\n",
       "      <td>03. Point 3</td>\n",
       "      <td>\\n            20.2935445</td>\n",
       "      <td>63.8176726</td>\n",
       "    </tr>\n",
       "  </tbody>\n",
       "</table>\n",
       "</div>"
      ],
      "text/plain": [
       "    place_name                 Longitude    Latitude\n",
       "0  01. Point 1  \\n            20.1990912  67.8683098\n",
       "1  02. Point 2  \\n            22.1653846  65.5841464\n",
       "2  03. Point 3  \\n            20.2935445  63.8176726"
      ]
     },
     "execution_count": 9,
     "metadata": {},
     "output_type": "execute_result"
    }
   ],
   "source": [
    "from pykml import parser\n",
    "import pandas as pd\n",
    "\n",
    "filename='KirunaUmeaGPSSIM.kml'\n",
    "with open(filename) as f:\n",
    "    folder = parser.parse(f).getroot().Document.Folder\n",
    "\n",
    "plnm = []\n",
    "cordi = []\n",
    "for pm in folder.Placemark:\n",
    "    plnm1=pm.name\n",
    "    plcs1=pm.Point.coordinates\n",
    "    plnm.append(plnm1.text)\n",
    "    cordi.append(plcs1.text)\n",
    "    \n",
    "db=pd.DataFrame()\n",
    "db['place_name']=plnm\n",
    "db['cordinates']=cordi\n",
    "\n",
    "def dump(obj):\n",
    "    for attr in dir(obj):\n",
    "        if hasattr( obj, attr ):\n",
    "            print( \"obj.%s = %s\" % (attr, getattr(obj, attr)))\n",
    "#the kml output plnm1 and plcs1 are objects actually which can be viewed using the dump function from [SO](https://blender.stackexchange.com/questions/1879/is-it-possible-to-dump-an-objects-properties-and-methods)\n",
    "\n",
    "db['Longitude'], db['Latitude'],db['value'] = zip(*db['cordinates'].apply(lambda x: x.split(',', 2)))\n",
    "db.drop(['value','cordinates'],axis=1,inplace=True)\n",
    "\n",
    "db"
   ]
  },
  {
   "cell_type": "markdown",
   "metadata": {},
   "source": [
    "### Creating appropirate dataBase for the calculating points"
   ]
  },
  {
   "cell_type": "code",
   "execution_count": 10,
   "metadata": {},
   "outputs": [
    {
     "data": {
      "text/plain": [
       "<bound method DataFrame.info of     place_name    Lat_int    Lon_int\n",
       "0  01. Point 1  67.868310  20.199091\n",
       "1  02. Point 2  65.584146  22.165385\n",
       "2  03. Point 3  63.817673  20.293544>"
      ]
     },
     "execution_count": 10,
     "metadata": {},
     "output_type": "execute_result"
    }
   ],
   "source": [
    "#db1 = db[['Longitude','Latitude']]\n",
    "db.Longitude.str.replace('\\n','')  # Eliminating the \\n from the Longitude\n",
    "db['Lon_int'] = db.Longitude.astype(float)\n",
    "db['Lat_int'] = db.Latitude.astype(float) \n",
    "db1 = db[['place_name','Lat_int','Lon_int']]\n",
    "db1.info"
   ]
  },
  {
   "cell_type": "markdown",
   "metadata": {},
   "source": [
    "### Calculating the distance between any two sequenced points"
   ]
  },
  {
   "cell_type": "code",
   "execution_count": 35,
   "metadata": {},
   "outputs": [],
   "source": [
    "[m,n] = db1.shape\n",
    " \n",
    "Distances = []\n",
    "for i in range(m-1):\n",
    "    TempResult = distance((db1.iloc[i,1],db1.iloc[i,2]),(db1.iloc[i+1,1],db1.iloc[i+1,2]))\n",
    "    Distances.append([\"Track {}\".format(i),TempResult])\n",
    "    \n",
    "#Converting Distances List to Pandas Dataframe\n",
    "dbDistances = pd.DataFrame(Distances)"
   ]
  },
  {
   "cell_type": "markdown",
   "metadata": {},
   "source": [
    "### Representing the distance on each track (km)"
   ]
  },
  {
   "cell_type": "code",
   "execution_count": 36,
   "metadata": {},
   "outputs": [
    {
     "data": {
      "text/plain": [
       "[['Track 0', 268.2449176213075], ['Track 1', 215.60125293247705]]"
      ]
     },
     "execution_count": 36,
     "metadata": {},
     "output_type": "execute_result"
    }
   ],
   "source": [
    "Distances"
   ]
  },
  {
   "cell_type": "markdown",
   "metadata": {},
   "source": [
    "### Total distances"
   ]
  },
  {
   "cell_type": "code",
   "execution_count": 51,
   "metadata": {},
   "outputs": [
    {
     "data": {
      "text/plain": [
       "0    Track 0Track 1\n",
       "1           483.846\n",
       "dtype: object"
      ]
     },
     "execution_count": 51,
     "metadata": {},
     "output_type": "execute_result"
    }
   ],
   "source": [
    "TotalDistance = dbDistances.sum()\n",
    "TotalDistance"
   ]
  },
  {
   "cell_type": "markdown",
   "metadata": {},
   "source": [
    "# GPS simulation \n"
   ]
  },
  {
   "cell_type": "markdown",
   "metadata": {},
   "source": [
    "### Calculating angle  between two sequential points which is called BEARING\n",
    "#### Function of Bearing (Horisontal Bearing)"
   ]
  },
  {
   "cell_type": "code",
   "execution_count": 13,
   "metadata": {},
   "outputs": [],
   "source": [
    "def calcBearing(lat1, lon1, lat2, lon2):\n",
    "    dLon = lon2 - lon1\n",
    "    y = math.sin(dLon) * math.cos(lat2)\n",
    "    x = math.cos(lat1) * math.sin(lat2) \\\n",
    "        - math.sin(lat1) * math.cos(lat2) * math.cos(dLon)\n",
    "    return math.atan2(y, x)"
   ]
  },
  {
   "cell_type": "code",
   "execution_count": 14,
   "metadata": {},
   "outputs": [],
   "source": [
    "Bearings = []\n",
    "for i in range(m-1):\n",
    "    TempBearing = calcBearing(db1.iloc[i,1],db1.iloc[i,2],db1.iloc[i+1,1],db1.iloc[i+1,2])\n",
    "    Bearings.append([\"Track {}\".format(i),TempBearing])"
   ]
  },
  {
   "cell_type": "markdown",
   "metadata": {},
   "source": [
    "### Representing the bear on each track"
   ]
  },
  {
   "cell_type": "code",
   "execution_count": 15,
   "metadata": {},
   "outputs": [
    {
     "data": {
      "text/plain": [
       "[['Track 0', -1.0777396176995913], ['Track 1', -2.5022122769128305]]"
      ]
     },
     "execution_count": 15,
     "metadata": {},
     "output_type": "execute_result"
    }
   ],
   "source": [
    "Bearings"
   ]
  },
  {
   "cell_type": "markdown",
   "metadata": {},
   "source": [
    "# 1. Scenario and assumptions"
   ]
  },
  {
   "cell_type": "markdown",
   "metadata": {},
   "source": [
    "-  Speed has been assumed as 80 km/h.\n",
    "-  Required time for passing Kiruna-lulea: 5 hours\n",
    "-  Required time for passing Lulea-Umea: 4 hours\n",
    "-  starting point is Kiruna and lulea will be pass and finally the distination is Umea\n"
   ]
  },
  {
   "cell_type": "markdown",
   "metadata": {},
   "source": [
    "## Assumption of Speed & Time"
   ]
  },
  {
   "cell_type": "code",
   "execution_count": 56,
   "metadata": {},
   "outputs": [],
   "source": [
    "Speed = 80\n",
    "TimeKirunaLulea = 5\n",
    "TimeLuleaUmea = 4"
   ]
  },
  {
   "cell_type": "markdown",
   "metadata": {},
   "source": [
    "## Distance calculation without puting any NOISE"
   ]
  },
  {
   "cell_type": "code",
   "execution_count": 58,
   "metadata": {},
   "outputs": [
    {
     "name": "stdout",
     "output_type": "stream",
     "text": [
      "Total Distance with out any Noise:  720\n"
     ]
    }
   ],
   "source": [
    "DistanceKirunaLulea = Speed*TimeKirunaLulea\n",
    "DistanceLuleaUmea = Speed*TimeLuleaUmea\n",
    "TotalDistanceSim = DistanceKirunaLulea + DistanceLuleaUmea\n",
    "print('Total Distance with out any Noise: ',TotalDistanceSim)"
   ]
  },
  {
   "cell_type": "markdown",
   "metadata": {},
   "source": [
    "It has been concluded from the Simulation and the direct calculation (720 km and 482 km respectively). So, the conclusion is not appropriate enough."
   ]
  },
  {
   "cell_type": "markdown",
   "metadata": {},
   "source": [
    "# 2. Scenario and assumptions"
   ]
  },
  {
   "cell_type": "markdown",
   "metadata": {},
   "source": [
    "-  In this scenario speeds change and timing will chagne as a consequence."
   ]
  },
  {
   "cell_type": "code",
   "execution_count": 65,
   "metadata": {},
   "outputs": [],
   "source": [
    "# Speeds for different tracks\n",
    "\n",
    "import numpy as np\n",
    "SpeedsKiurnaLulea = np.array([50,80,70,90,100,70,50,40,80,100])\n",
    "SpeedsLuleaUmea = np.array([50,100,80,90,100,110,80,90,100,80])        "
   ]
  },
  {
   "cell_type": "code",
   "execution_count": null,
   "metadata": {},
   "outputs": [],
   "source": []
  }
 ],
 "metadata": {
  "kernelspec": {
   "display_name": "Python 2",
   "language": "python",
   "name": "python2"
  },
  "language_info": {
   "codemirror_mode": {
    "name": "ipython",
    "version": 3
   },
   "file_extension": ".py",
   "mimetype": "text/x-python",
   "name": "python",
   "nbconvert_exporter": "python",
   "pygments_lexer": "ipython3",
   "version": "3.6.5"
  }
 },
 "nbformat": 4,
 "nbformat_minor": 2
}
