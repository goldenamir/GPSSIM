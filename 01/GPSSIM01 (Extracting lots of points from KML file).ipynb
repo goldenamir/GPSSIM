{
 "cells": [
  {
   "cell_type": "markdown",
   "metadata": {
    "colab_type": "text",
    "id": "Ijx89YYcF9gi"
   },
   "source": [
    "# GPS Simulation Project"
   ]
  },
  {
   "cell_type": "markdown",
   "metadata": {
    "colab_type": "text",
    "id": "knKqwghaF9gi"
   },
   "source": [
    "### Haversine Function"
   ]
  },
  {
   "cell_type": "code",
   "execution_count": 0,
   "metadata": {
    "colab": {},
    "colab_type": "code",
    "id": "Cg3pjyNcF9gj"
   },
   "outputs": [],
   "source": [
    "import math\n",
    "\n",
    "def distance(origin, destination):\n",
    "    lat1, lon1 = origin\n",
    "    lat2, lon2 = destination\n",
    "    radius = 6371 # km\n",
    "\n",
    "    dlat = math.radians(lat2-lat1)\n",
    "    dlon = math.radians(lon2-lon1)\n",
    "    a = math.sin(dlat/2) * math.sin(dlat/2) + math.cos(math.radians(lat1)) \\\n",
    "        * math.cos(math.radians(lat2)) * math.sin(dlon/2) * math.sin(dlon/2)\n",
    "    c = 2 * math.atan2(math.sqrt(a), math.sqrt(1-a))\n",
    "    d = radius * c\n",
    "\n",
    "    return d\n",
    "\n",
    "\n",
    "# Sample for filling the function print( distance((lat1, long1), (lat2, long2)) )"
   ]
  },
  {
   "cell_type": "markdown",
   "metadata": {
    "colab_type": "text",
    "id": "m7IL7B5bF9gn"
   },
   "source": [
    "### Reading points from digital maps\n",
    "![image.png](attachment:image.png)"
   ]
  },
  {
   "cell_type": "code",
   "execution_count": 2,
   "metadata": {
    "colab": {
     "base_uri": "https://localhost:8080/",
     "height": 367
    },
    "colab_type": "code",
    "executionInfo": {
     "elapsed": 809,
     "status": "error",
     "timestamp": 1541609623656,
     "user": {
      "displayName": "Amir Taghizadeh Vahed",
      "photoUrl": "https://lh4.googleusercontent.com/-Fjhtf_3oCik/AAAAAAAAAAI/AAAAAAAAFvI/_Q105Q6Wt-A/s64/photo.jpg",
      "userId": "16945980589998753129"
     },
     "user_tz": -60
    },
    "id": "BDDvXlqUF9go",
    "outputId": "b5c7c9fc-bb5d-4a70-b02c-d2ad7ab05e90"
   },
   "outputs": [
    {
     "ename": "ImportError",
     "evalue": "ignored",
     "output_type": "error",
     "traceback": [
      "\u001b[0;31m\u001b[0m",
      "\u001b[0;31mImportError\u001b[0mTraceback (most recent call last)",
      "\u001b[0;32m<ipython-input-2-8b52a98785d4>\u001b[0m in \u001b[0;36m<module>\u001b[0;34m()\u001b[0m\n\u001b[0;32m----> 1\u001b[0;31m \u001b[0;32mfrom\u001b[0m \u001b[0mpykml\u001b[0m \u001b[0;32mimport\u001b[0m \u001b[0mparser\u001b[0m\u001b[0;34m\u001b[0m\u001b[0m\n\u001b[0m\u001b[1;32m      2\u001b[0m \u001b[0;32mimport\u001b[0m \u001b[0mpandas\u001b[0m \u001b[0;32mas\u001b[0m \u001b[0mpd\u001b[0m\u001b[0;34m\u001b[0m\u001b[0m\n\u001b[1;32m      3\u001b[0m \u001b[0;34m\u001b[0m\u001b[0m\n\u001b[1;32m      4\u001b[0m \u001b[0mfilename\u001b[0m\u001b[0;34m=\u001b[0m\u001b[0;34m'KirunaUmeaStation.kml'\u001b[0m\u001b[0;34m\u001b[0m\u001b[0m\n\u001b[1;32m      5\u001b[0m \u001b[0;32mwith\u001b[0m \u001b[0mopen\u001b[0m\u001b[0;34m(\u001b[0m\u001b[0mfilename\u001b[0m\u001b[0;34m)\u001b[0m \u001b[0;32mas\u001b[0m \u001b[0mf\u001b[0m\u001b[0;34m:\u001b[0m\u001b[0;34m\u001b[0m\u001b[0m\n",
      "\u001b[0;31mImportError\u001b[0m: No module named pykml",
      "",
      "\u001b[0;31m---------------------------------------------------------------------------\u001b[0;32m\nNOTE: If your import is failing due to a missing package, you can\nmanually install dependencies using either !pip or !apt.\n\nTo view examples of installing some common dependencies, click the\n\"Open Examples\" button below.\n\u001b[0;31m---------------------------------------------------------------------------\u001b[0m\n"
     ]
    }
   ],
   "source": [
    "from pykml import parser\n",
    "import pandas as pd\n",
    "\n",
    "filename='KirunaUmeaStation.kml'\n",
    "with open(filename) as f:\n",
    "    folder = parser.parse(f).getroot().Document.Folder\n",
    "\n",
    "plnm = []\n",
    "cordi = []\n",
    "for pm in folder.Placemark:\n",
    "    plnm1=pm.name\n",
    "    plcs1=pm.Point.coordinates\n",
    "    plnm.append(plnm1.text)\n",
    "    cordi.append(plcs1.text)\n",
    "    \n",
    "db=pd.DataFrame()\n",
    "db['place_name']=plnm\n",
    "db['cordinates']=cordi\n",
    "\n",
    "def dump(obj):\n",
    "    for attr in dir(obj):\n",
    "        if hasattr( obj, attr ):\n",
    "            print( \"obj.%s = %s\" % (attr, getattr(obj, attr)))\n",
    "#the kml output plnm1 and plcs1 are objects actually which can be viewed using the dump function from [SO](https://blender.stackexchange.com/questions/1879/is-it-possible-to-dump-an-objects-properties-and-methods)\n",
    "\n",
    "db['Longitude'], db['Latitude'],db['value'] = zip(*db['cordinates'].apply(lambda x: x.split(',', 2)))\n",
    "db.drop(['value','cordinates'],axis=1,inplace=True)\n",
    "\n",
    "db"
   ]
  },
  {
   "cell_type": "markdown",
   "metadata": {
    "colab_type": "text",
    "id": "ya8XQLm1F9gt"
   },
   "source": [
    "### Creating appropirate dataBase for the calculating points"
   ]
  },
  {
   "cell_type": "code",
   "execution_count": 0,
   "metadata": {
    "colab": {},
    "colab_type": "code",
    "id": "JaXRR8JiF9gu",
    "outputId": "fa814367-d308-4ee1-c432-53827dd475ac"
   },
   "outputs": [
    {
     "data": {
      "text/plain": [
       "<bound method DataFrame.info of       place_name    Lat_int    Lon_int\n",
       "0   01. Point 01  67.870525  20.197191\n",
       "1    02. Point 2  67.868731  20.198698\n",
       "2    03. Point 3  67.862818  20.205054\n",
       "3    04. Point 4  67.859186  20.203772\n",
       "4    05. Point 5  67.858910  20.204381\n",
       "5    06. Point 6  67.856564  20.213314\n",
       "6    07. Point 7  67.851906  20.217706\n",
       "7    08. Point 8  67.849248  20.219541\n",
       "8    09. Point 9  67.845861  20.220871\n",
       "9   10. Point 10  67.840362  20.223143\n",
       "10  11. Point 11  67.837863  20.227511\n",
       "11  12. Point 12  67.836849  20.230552\n",
       "12  13. Point 13  67.834565  20.235902\n",
       "13  14. Point 14  67.829823  20.237574\n",
       "14  15. Point 15  67.825095  20.240494>"
      ]
     },
     "execution_count": 3,
     "metadata": {
      "tags": []
     },
     "output_type": "execute_result"
    }
   ],
   "source": [
    "#db1 = db[['Longitude','Latitude']]\n",
    "db.Longitude.str.replace('\\n','')  # Eliminating the \\n from the Longitude\n",
    "db['Lon_int'] = db.Longitude.astype(float)\n",
    "db['Lat_int'] = db.Latitude.astype(float) \n",
    "db1 = db[['place_name','Lat_int','Lon_int']]\n",
    "db1.info"
   ]
  },
  {
   "cell_type": "markdown",
   "metadata": {
    "colab_type": "text",
    "id": "jMsF_T8hF9gx"
   },
   "source": [
    "### Calculating the distance between any two sequenced points"
   ]
  },
  {
   "cell_type": "code",
   "execution_count": 0,
   "metadata": {
    "colab": {},
    "colab_type": "code",
    "id": "g1-Bk8WTF9gz"
   },
   "outputs": [],
   "source": [
    "[m,n] = db1.shape\n",
    " \n",
    "Distances = []\n",
    "for i in range(m-1):\n",
    "    TempResult = distance((db1.iloc[i,1],db1.iloc[i,2]),(db1.iloc[i+1,1],db1.iloc[i+1,2]))\n",
    "    Distances.append([\"Track {}\".format(i),TempResult])\n",
    "    \n",
    "#Converting Distances List to Pandas Dataframe\n",
    "dbDistances = pd.DataFrame(Distances)"
   ]
  },
  {
   "cell_type": "markdown",
   "metadata": {
    "colab_type": "text",
    "id": "zb4DleQTF9g1"
   },
   "source": [
    "### Representing the distance on each track (km)"
   ]
  },
  {
   "cell_type": "code",
   "execution_count": 0,
   "metadata": {
    "colab": {},
    "colab_type": "code",
    "id": "DZvYQd3RF9g3",
    "outputId": "c9ad2535-f426-4ef3-da03-b32990dfb334"
   },
   "outputs": [
    {
     "data": {
      "text/html": [
       "<div>\n",
       "<style scoped>\n",
       "    .dataframe tbody tr th:only-of-type {\n",
       "        vertical-align: middle;\n",
       "    }\n",
       "\n",
       "    .dataframe tbody tr th {\n",
       "        vertical-align: top;\n",
       "    }\n",
       "\n",
       "    .dataframe thead th {\n",
       "        text-align: right;\n",
       "    }\n",
       "</style>\n",
       "<table border=\"1\" class=\"dataframe\">\n",
       "  <thead>\n",
       "    <tr style=\"text-align: right;\">\n",
       "      <th></th>\n",
       "      <th>0</th>\n",
       "      <th>1</th>\n",
       "    </tr>\n",
       "  </thead>\n",
       "  <tbody>\n",
       "    <tr>\n",
       "      <th>0</th>\n",
       "      <td>Track 0</td>\n",
       "      <td>0.209274</td>\n",
       "    </tr>\n",
       "    <tr>\n",
       "      <th>1</th>\n",
       "      <td>Track 1</td>\n",
       "      <td>0.709371</td>\n",
       "    </tr>\n",
       "    <tr>\n",
       "      <th>2</th>\n",
       "      <td>Track 2</td>\n",
       "      <td>0.407416</td>\n",
       "    </tr>\n",
       "    <tr>\n",
       "      <th>3</th>\n",
       "      <td>Track 3</td>\n",
       "      <td>0.039915</td>\n",
       "    </tr>\n",
       "    <tr>\n",
       "      <th>4</th>\n",
       "      <td>Track 4</td>\n",
       "      <td>0.456290</td>\n",
       "    </tr>\n",
       "    <tr>\n",
       "      <th>5</th>\n",
       "      <td>Track 5</td>\n",
       "      <td>0.549637</td>\n",
       "    </tr>\n",
       "    <tr>\n",
       "      <th>6</th>\n",
       "      <td>Track 6</td>\n",
       "      <td>0.305446</td>\n",
       "    </tr>\n",
       "    <tr>\n",
       "      <th>7</th>\n",
       "      <td>Track 7</td>\n",
       "      <td>0.380733</td>\n",
       "    </tr>\n",
       "    <tr>\n",
       "      <th>8</th>\n",
       "      <td>Track 8</td>\n",
       "      <td>0.618796</td>\n",
       "    </tr>\n",
       "    <tr>\n",
       "      <th>9</th>\n",
       "      <td>Track 9</td>\n",
       "      <td>0.332866</td>\n",
       "    </tr>\n",
       "    <tr>\n",
       "      <th>10</th>\n",
       "      <td>Track 10</td>\n",
       "      <td>0.170251</td>\n",
       "    </tr>\n",
       "    <tr>\n",
       "      <th>11</th>\n",
       "      <td>Track 11</td>\n",
       "      <td>0.338894</td>\n",
       "    </tr>\n",
       "    <tr>\n",
       "      <th>12</th>\n",
       "      <td>Track 12</td>\n",
       "      <td>0.531986</td>\n",
       "    </tr>\n",
       "    <tr>\n",
       "      <th>13</th>\n",
       "      <td>Track 13</td>\n",
       "      <td>0.539852</td>\n",
       "    </tr>\n",
       "  </tbody>\n",
       "</table>\n",
       "</div>"
      ],
      "text/plain": [
       "           0         1\n",
       "0    Track 0  0.209274\n",
       "1    Track 1  0.709371\n",
       "2    Track 2  0.407416\n",
       "3    Track 3  0.039915\n",
       "4    Track 4  0.456290\n",
       "5    Track 5  0.549637\n",
       "6    Track 6  0.305446\n",
       "7    Track 7  0.380733\n",
       "8    Track 8  0.618796\n",
       "9    Track 9  0.332866\n",
       "10  Track 10  0.170251\n",
       "11  Track 11  0.338894\n",
       "12  Track 12  0.531986\n",
       "13  Track 13  0.539852"
      ]
     },
     "execution_count": 9,
     "metadata": {
      "tags": []
     },
     "output_type": "execute_result"
    }
   ],
   "source": [
    "dbDistances"
   ]
  },
  {
   "cell_type": "markdown",
   "metadata": {
    "colab_type": "text",
    "id": "jEucXuKyF9g6"
   },
   "source": [
    "### Total distance passed"
   ]
  },
  {
   "cell_type": "code",
   "execution_count": 0,
   "metadata": {
    "colab": {},
    "colab_type": "code",
    "id": "r55LwidNF9g7",
    "outputId": "ccafcc3e-35a4-442f-98d2-01a79a4d2151"
   },
   "outputs": [
    {
     "data": {
      "text/plain": [
       "0    Track 0Track 1Track 2Track 3Track 4Track 5Trac...\n",
       "1                                              5.59073\n",
       "dtype: object"
      ]
     },
     "execution_count": 10,
     "metadata": {
      "tags": []
     },
     "output_type": "execute_result"
    }
   ],
   "source": [
    "TotalDistance = dbDistances.sum()\n",
    "TotalDistance"
   ]
  },
  {
   "cell_type": "markdown",
   "metadata": {
    "colab_type": "text",
    "id": "8bIgSAs9F9hB"
   },
   "source": [
    "# GPS simulation \n"
   ]
  },
  {
   "cell_type": "markdown",
   "metadata": {
    "colab_type": "text",
    "id": "PznE59ECF9hD"
   },
   "source": [
    "### Calculating angle  between two sequential points which is called BEARING\n",
    "#### Function of Bearing (Horisontal Bearing)"
   ]
  },
  {
   "cell_type": "code",
   "execution_count": 0,
   "metadata": {
    "colab": {},
    "colab_type": "code",
    "id": "jkTAyq5qF9hF"
   },
   "outputs": [],
   "source": [
    "def calcBearing(lat1, lon1, lat2, lon2):\n",
    "    dLon = lon2 - lon1\n",
    "    y = math.sin(dLon) * math.cos(lat2)\n",
    "    x = math.cos(lat1) * math.sin(lat2) \\\n",
    "        - math.sin(lat1) * math.cos(lat2) * math.cos(dLon)\n",
    "    return math.atan2(y, x)"
   ]
  },
  {
   "cell_type": "code",
   "execution_count": 0,
   "metadata": {
    "colab": {},
    "colab_type": "code",
    "id": "tVA6sOQ5F9hH"
   },
   "outputs": [],
   "source": [
    "Bearings = []\n",
    "for i in range(m-1):\n",
    "    TempBearing = calcBearing(db1.iloc[i,1],db1.iloc[i,2],db1.iloc[i+1,1],db1.iloc[i+1,2])\n",
    "    Bearings.append([\"Track {}\".format(i),TempBearing])"
   ]
  },
  {
   "cell_type": "markdown",
   "metadata": {
    "colab_type": "text",
    "id": "CgDXj04_F9hJ"
   },
   "source": [
    "### Representing the bear on each track"
   ]
  },
  {
   "cell_type": "code",
   "execution_count": 0,
   "metadata": {
    "colab": {},
    "colab_type": "code",
    "id": "7Jll4NhBF9hK",
    "outputId": "97909b5d-b61d-4d6b-b8d0-3ac637f61ddf"
   },
   "outputs": [
    {
     "data": {
      "text/plain": [
       "[['Track 0', 2.879887637092737],\n",
       " ['Track 1', 2.817182585184142],\n",
       " ['Track 2', -3.0327109170377495],\n",
       " ['Track 3', 2.542115964944342],\n",
       " ['Track 4', 2.2804876954270807],\n",
       " ['Track 5', 2.86358921756057],\n",
       " ['Track 6', 2.9371323663653004],\n",
       " ['Track 7', 3.0254950506856613],\n",
       " ['Track 8', 3.021606293604686],\n",
       " ['Track 9', 2.673834559716899],\n",
       " ['Track 10', 2.4289437803808753],\n",
       " ['Track 11', 2.551622423225236],\n",
       " ['Track 12', 3.0426161083292302],\n",
       " ['Track 13', 2.9721148316833372]]"
      ]
     },
     "execution_count": 8,
     "metadata": {
      "tags": []
     },
     "output_type": "execute_result"
    }
   ],
   "source": [
    "Bearings"
   ]
  },
  {
   "cell_type": "code",
   "execution_count": 0,
   "metadata": {
    "colab": {},
    "colab_type": "code",
    "id": "8EEYznHNF9hQ"
   },
   "outputs": [],
   "source": []
  },
  {
   "cell_type": "code",
   "execution_count": 0,
   "metadata": {
    "colab": {},
    "colab_type": "code",
    "id": "6kJ_68aOF9hS"
   },
   "outputs": [],
   "source": []
  }
 ],
 "metadata": {
  "colab": {
   "name": "GPSSIM01 (Extracting lots of points from KML file).ipynb",
   "provenance": [],
   "version": "0.3.2"
  },
  "kernelspec": {
   "display_name": "Python 2",
   "language": "python",
   "name": "python2"
  },
  "language_info": {
   "codemirror_mode": {
    "name": "ipython",
    "version": 3
   },
   "file_extension": ".py",
   "mimetype": "text/x-python",
   "name": "python",
   "nbconvert_exporter": "python",
   "pygments_lexer": "ipython3",
   "version": "3.6.5"
  }
 },
 "nbformat": 4,
 "nbformat_minor": 1
}
